{
 "cells": [
  {
   "cell_type": "code",
   "execution_count": 2,
   "id": "f160b395",
   "metadata": {},
   "outputs": [],
   "source": [
    "%store -r models\n",
    "%store -r models_results\n",
    "import pandas as pd\n",
    "import numpy as np"
   ]
  },
  {
   "cell_type": "code",
   "execution_count": 3,
   "id": "4b8e9abe",
   "metadata": {},
   "outputs": [],
   "source": [
    "train_data = pd.read_csv('../Data/train_data_processed.csv', index_col = 'Id')\n",
    "\n",
    "X_train = train_data.copy()  \n",
    "y_train = X_train['SalePrice']\n",
    "X_train = X_train.drop(['SalePrice'], axis = 1)"
   ]
  },
  {
   "cell_type": "code",
   "execution_count": 4,
   "id": "441f2812",
   "metadata": {},
   "outputs": [
    {
     "data": {
      "text/html": [
       "<div>\n",
       "<style scoped>\n",
       "    .dataframe tbody tr th:only-of-type {\n",
       "        vertical-align: middle;\n",
       "    }\n",
       "\n",
       "    .dataframe tbody tr th {\n",
       "        vertical-align: top;\n",
       "    }\n",
       "\n",
       "    .dataframe thead th {\n",
       "        text-align: right;\n",
       "    }\n",
       "</style>\n",
       "<table border=\"1\" class=\"dataframe\">\n",
       "  <thead>\n",
       "    <tr style=\"text-align: right;\">\n",
       "      <th></th>\n",
       "      <th>OverallQual</th>\n",
       "      <th>GrLivArea</th>\n",
       "      <th>YearBuilt</th>\n",
       "      <th>GarageArea</th>\n",
       "      <th>TotalBsmtSF</th>\n",
       "      <th>FullBath</th>\n",
       "      <th>YearRemodAdd</th>\n",
       "      <th>2ndFlrSF</th>\n",
       "      <th>LotArea</th>\n",
       "      <th>Fireplaces</th>\n",
       "      <th>...</th>\n",
       "      <th>Exterior1st_AsbShng</th>\n",
       "      <th>Exterior1st_BrkFace</th>\n",
       "      <th>Exterior1st_CemntBd</th>\n",
       "      <th>Exterior1st_HdBoard</th>\n",
       "      <th>Exterior1st_MetalSd</th>\n",
       "      <th>Exterior1st_Plywood</th>\n",
       "      <th>Exterior1st_Stucco</th>\n",
       "      <th>Exterior1st_VinylSd</th>\n",
       "      <th>Exterior1st_Wd Sdng</th>\n",
       "      <th>Exterior1st_WdShing</th>\n",
       "    </tr>\n",
       "    <tr>\n",
       "      <th>Id</th>\n",
       "      <th></th>\n",
       "      <th></th>\n",
       "      <th></th>\n",
       "      <th></th>\n",
       "      <th></th>\n",
       "      <th></th>\n",
       "      <th></th>\n",
       "      <th></th>\n",
       "      <th></th>\n",
       "      <th></th>\n",
       "      <th></th>\n",
       "      <th></th>\n",
       "      <th></th>\n",
       "      <th></th>\n",
       "      <th></th>\n",
       "      <th></th>\n",
       "      <th></th>\n",
       "      <th></th>\n",
       "      <th></th>\n",
       "      <th></th>\n",
       "      <th></th>\n",
       "    </tr>\n",
       "  </thead>\n",
       "  <tbody>\n",
       "    <tr>\n",
       "      <th>1461</th>\n",
       "      <td>5</td>\n",
       "      <td>896</td>\n",
       "      <td>1961</td>\n",
       "      <td>730.0</td>\n",
       "      <td>882.0</td>\n",
       "      <td>1</td>\n",
       "      <td>1961</td>\n",
       "      <td>0</td>\n",
       "      <td>11622</td>\n",
       "      <td>0</td>\n",
       "      <td>...</td>\n",
       "      <td>0.0</td>\n",
       "      <td>0.0</td>\n",
       "      <td>0.0</td>\n",
       "      <td>0.0</td>\n",
       "      <td>0.0</td>\n",
       "      <td>0.0</td>\n",
       "      <td>0.0</td>\n",
       "      <td>1.0</td>\n",
       "      <td>0.0</td>\n",
       "      <td>0.0</td>\n",
       "    </tr>\n",
       "  </tbody>\n",
       "</table>\n",
       "<p>1 rows × 65 columns</p>\n",
       "</div>"
      ],
      "text/plain": [
       "      OverallQual  GrLivArea  YearBuilt  GarageArea  TotalBsmtSF  FullBath  \\\n",
       "Id                                                                           \n",
       "1461            5        896       1961       730.0        882.0         1   \n",
       "\n",
       "      YearRemodAdd  2ndFlrSF  LotArea  Fireplaces  ...  Exterior1st_AsbShng  \\\n",
       "Id                                                 ...                        \n",
       "1461          1961         0    11622           0  ...                  0.0   \n",
       "\n",
       "      Exterior1st_BrkFace  Exterior1st_CemntBd  Exterior1st_HdBoard  \\\n",
       "Id                                                                    \n",
       "1461                  0.0                  0.0                  0.0   \n",
       "\n",
       "      Exterior1st_MetalSd  Exterior1st_Plywood  Exterior1st_Stucco  \\\n",
       "Id                                                                   \n",
       "1461                  0.0                  0.0                 0.0   \n",
       "\n",
       "      Exterior1st_VinylSd  Exterior1st_Wd Sdng  Exterior1st_WdShing  \n",
       "Id                                                                   \n",
       "1461                  1.0                  0.0                  0.0  \n",
       "\n",
       "[1 rows x 65 columns]"
      ]
     },
     "execution_count": 4,
     "metadata": {},
     "output_type": "execute_result"
    }
   ],
   "source": [
    "test_data = pd.read_csv('../Data/test_data_processed.csv', index_col = 'Id')\n",
    "\n",
    "test_data.head(1)"
   ]
  },
  {
   "cell_type": "code",
   "execution_count": 5,
   "id": "ca22e4b0",
   "metadata": {},
   "outputs": [
    {
     "data": {
      "text/plain": [
       "(1459, 65)"
      ]
     },
     "execution_count": 5,
     "metadata": {},
     "output_type": "execute_result"
    }
   ],
   "source": [
    "test_data.shape"
   ]
  },
  {
   "cell_type": "code",
   "execution_count": null,
   "id": "91733b76",
   "metadata": {},
   "outputs": [],
   "source": [
    "random_forest_regressor = models[]"
   ]
  }
 ],
 "metadata": {
  "kernelspec": {
   "display_name": "Python 3 (ipykernel)",
   "language": "python",
   "name": "python3"
  },
  "language_info": {
   "codemirror_mode": {
    "name": "ipython",
    "version": 3
   },
   "file_extension": ".py",
   "mimetype": "text/x-python",
   "name": "python",
   "nbconvert_exporter": "python",
   "pygments_lexer": "ipython3",
   "version": "3.9.7"
  }
 },
 "nbformat": 4,
 "nbformat_minor": 5
}
