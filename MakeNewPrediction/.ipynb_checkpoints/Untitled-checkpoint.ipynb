{
 "cells": [
  {
   "cell_type": "code",
   "execution_count": 2,
   "id": "e93dcf9d",
   "metadata": {},
   "outputs": [],
   "source": [
    "%run make_new_prediction.py"
   ]
  },
  {
   "cell_type": "markdown",
   "id": "edb6bdd9",
   "metadata": {},
   "source": [
    "# Predicting of House Prices    \n",
    "\n",
    "\n",
    "The project solves a regression problem - predicting house prices. \n",
    "\n",
    "It is built using pandas, numpy, scikit-learn and xgboost libraries.    \n",
    "\n",
    "The data was taken from the Kaggle database [Kaggle](https://www.kaggle.com/competitions/house-prices-advanced-regression-techniques/data)  \n",
    "\n",
    "\n",
    "### Goal of this project\n",
    "\n",
    "The goal of the project is to go through the entire cycle of a machine learning project from data collection to creating a program ready to predict house prices using the new data.\n",
    "\n",
    "### Table of Contents  \n",
    "\n",
    "- [Development]\n",
    "- [Usage]\n",
    "- [Project Navigation]\n",
    "   \n",
    "    \n",
    "### Development   \n",
    "\n",
    "To install all required dependencies, run the `requirements.txt` file from the root directory of the project:    \n",
    "\n",
    "> pip install -r reqirements.txt\n",
    "\n",
    "To build a project run the following command while in the root directory:    \n",
    "\n",
    "> python Scripts/make_project.py\n",
    "\n",
    "\n",
    "### Usage  \n",
    "\n",
    "If you are that lucky guy who has real estate in Ames, Iowa, and you want to find out its value, you can do it as follows:    \n",
    "\n",
    "1. In the MakeNewPrediction folder, write your property information into a *make_prediction* file similar to *make_prediction_example*.\n",
    "\n",
    "2. In the same folder, run the command:\n",
    "> python make_new_prediction\n",
    "\n",
    "3. Look up the value of your properties in the **price_of_your_property** file that will appear afterwards.\n",
    "\n",
    "\n",
    "### Project Navigation   \n",
    "\n",
    "The easiest to grasp part of the project is in the Notebooks folder. This folder contains Jupyter Notebooks with a lot of comments, deliberations and code explanations.    \n",
    "\n",
    "The first notebook in chronology is *Notebooks/Exploratory/ExploratoryAnalysis.ipynb*. This contains all the preprocessing of the data. (loading data, handling missing values, selecting features, etc.) This is also where I save a few variations of the data to the Data folder. \n",
    "*The script for this notebook: Scripts/preprocessing.py*    \n",
    "\n",
    "The next notebook is *Notebooks/Modeling/FittingAndEvaluation.ipynb*. In this notebook, I find the best hyperparameters for different models and save the results.\n",
    "*The script for this notebook: Scripts/models_tuning_and_evaluation.py*\n",
    "\n",
    "The last notebook is *Notebooks/Modeling/TryDifferentData.ipynb*. In this notebook, I train the models on different data and get real prediction scores using Kaggle submissions.\n",
    "*The script for this notebook: Scripts/models_prediction_on_different_data.py*\n",
    "\n",
    "A description of the original data can be found in the Documentation folder.\n",
    "\n",
    "\n",
    "\n",
    "Enjoy coding!"
   ]
  },
  {
   "cell_type": "code",
   "execution_count": null,
   "id": "d0f5fa48",
   "metadata": {},
   "outputs": [],
   "source": []
  }
 ],
 "metadata": {
  "kernelspec": {
   "display_name": "Python 3 (ipykernel)",
   "language": "python",
   "name": "python3"
  },
  "language_info": {
   "codemirror_mode": {
    "name": "ipython",
    "version": 3
   },
   "file_extension": ".py",
   "mimetype": "text/x-python",
   "name": "python",
   "nbconvert_exporter": "python",
   "pygments_lexer": "ipython3",
   "version": "3.9.7"
  }
 },
 "nbformat": 4,
 "nbformat_minor": 5
}
