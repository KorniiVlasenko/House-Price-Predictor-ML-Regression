{
 "cells": [
  {
   "cell_type": "code",
   "execution_count": 68,
   "id": "593baf06",
   "metadata": {},
   "outputs": [],
   "source": [
    "%store -r models\n",
    "%store -r models_results\n",
    "import pandas as pd\n",
    "import numpy as np\n",
    "from sklearn.model_selection import cross_val_score \n",
    "from sklearn.model_selection import GridSearchCV\n",
    "from sklearn.ensemble import RandomForestRegressor"
   ]
  },
  {
   "cell_type": "code",
   "execution_count": 40,
   "id": "ede1a023",
   "metadata": {},
   "outputs": [
    {
     "data": {
      "text/html": [
       "<div>\n",
       "<style scoped>\n",
       "    .dataframe tbody tr th:only-of-type {\n",
       "        vertical-align: middle;\n",
       "    }\n",
       "\n",
       "    .dataframe tbody tr th {\n",
       "        vertical-align: top;\n",
       "    }\n",
       "\n",
       "    .dataframe thead th {\n",
       "        text-align: right;\n",
       "    }\n",
       "</style>\n",
       "<table border=\"1\" class=\"dataframe\">\n",
       "  <thead>\n",
       "    <tr style=\"text-align: right;\">\n",
       "      <th></th>\n",
       "      <th>linear_regression</th>\n",
       "      <th>ridge_regression</th>\n",
       "      <th>lasso_regression</th>\n",
       "      <th>elastic_net</th>\n",
       "      <th>decision_tree_regressor</th>\n",
       "      <th>random_forest_regressor</th>\n",
       "      <th>xgb_regressor</th>\n",
       "    </tr>\n",
       "  </thead>\n",
       "  <tbody>\n",
       "    <tr>\n",
       "      <th>0</th>\n",
       "      <td>LinearRegression()</td>\n",
       "      <td>Ridge(alpha=3.076923076923077, random_state=0)</td>\n",
       "      <td>Lasso(alpha=52, random_state=0)</td>\n",
       "      <td>ElasticNet(alpha=52, l1_ratio=1.0, random_stat...</td>\n",
       "      <td>DecisionTreeRegressor(max_depth=8, max_feature...</td>\n",
       "      <td>RandomForestRegressor(max_depth=31, max_featur...</td>\n",
       "      <td>XGBRegressor(base_score=None, booster=None, ca...</td>\n",
       "    </tr>\n",
       "  </tbody>\n",
       "</table>\n",
       "</div>"
      ],
      "text/plain": [
       "    linear_regression                                ridge_regression  \\\n",
       "0  LinearRegression()  Ridge(alpha=3.076923076923077, random_state=0)   \n",
       "\n",
       "                  lasso_regression  \\\n",
       "0  Lasso(alpha=52, random_state=0)   \n",
       "\n",
       "                                         elastic_net  \\\n",
       "0  ElasticNet(alpha=52, l1_ratio=1.0, random_stat...   \n",
       "\n",
       "                             decision_tree_regressor  \\\n",
       "0  DecisionTreeRegressor(max_depth=8, max_feature...   \n",
       "\n",
       "                             random_forest_regressor  \\\n",
       "0  RandomForestRegressor(max_depth=31, max_featur...   \n",
       "\n",
       "                                       xgb_regressor  \n",
       "0  XGBRegressor(base_score=None, booster=None, ca...  "
      ]
     },
     "execution_count": 40,
     "metadata": {},
     "output_type": "execute_result"
    }
   ],
   "source": [
    "models"
   ]
  },
  {
   "cell_type": "code",
   "execution_count": 4,
   "id": "f1afb8aa",
   "metadata": {},
   "outputs": [
    {
     "data": {
      "text/plain": [
       "linear_regression         -14231.924375\n",
       "ridge_regression          -14039.208670\n",
       "lasso_regression          -13943.969522\n",
       "elastic_net               -13943.969522\n",
       "decision_tree_regressor   -16727.753705\n",
       "random_forest_regressor   -12596.608348\n",
       "xgb_regressor             -12880.093265\n",
       "dtype: float64"
      ]
     },
     "execution_count": 4,
     "metadata": {},
     "output_type": "execute_result"
    }
   ],
   "source": [
    "models_results"
   ]
  },
  {
   "cell_type": "code",
   "execution_count": 17,
   "id": "5f7dee7a",
   "metadata": {},
   "outputs": [],
   "source": [
    "train_data = pd.read_csv('../../Data/train_data_processed.csv', index_col = 'Id')\n",
    "X = train_data.copy()\n",
    "y = X['SalePrice']\n",
    "X = X.drop(['SalePrice'], axis = 1)\n",
    "\n",
    "test_data = pd.read_csv('../../Data/test_data_processed.csv', index_col = 'Id')"
   ]
  },
  {
   "cell_type": "code",
   "execution_count": 19,
   "id": "52f35dc9",
   "metadata": {},
   "outputs": [],
   "source": [
    "columns_list = list(X.columns)"
   ]
  },
  {
   "cell_type": "code",
   "execution_count": 20,
   "id": "ba5a508d",
   "metadata": {},
   "outputs": [
    {
     "name": "stdout",
     "output_type": "stream",
     "text": [
      "0  -  OverallQual\n",
      "1  -  GrLivArea\n",
      "2  -  YearBuilt\n",
      "3  -  GarageArea\n",
      "4  -  TotalBsmtSF\n",
      "5  -  FullBath\n",
      "6  -  YearRemodAdd\n",
      "7  -  2ndFlrSF\n",
      "8  -  LotArea\n",
      "9  -  Fireplaces\n",
      "10  -  OpenPorchSF\n",
      "11  -  Neighborhood_Blmngtn\n",
      "12  -  Neighborhood_Blueste\n",
      "13  -  Neighborhood_BrDale\n",
      "14  -  Neighborhood_BrkSide\n",
      "15  -  Neighborhood_ClearCr\n",
      "16  -  Neighborhood_CollgCr\n",
      "17  -  Neighborhood_Crawfor\n",
      "18  -  Neighborhood_Edwards\n",
      "19  -  Neighborhood_Gilbert\n",
      "20  -  Neighborhood_IDOTRR\n",
      "21  -  Neighborhood_MeadowV\n",
      "22  -  Neighborhood_Mitchel\n",
      "23  -  Neighborhood_NAmes\n",
      "24  -  Neighborhood_NPkVill\n",
      "25  -  Neighborhood_NWAmes\n",
      "26  -  Neighborhood_NoRidge\n",
      "27  -  Neighborhood_NridgHt\n",
      "28  -  Neighborhood_OldTown\n",
      "29  -  Neighborhood_SWISU\n",
      "30  -  Neighborhood_Sawyer\n",
      "31  -  Neighborhood_SawyerW\n",
      "32  -  Neighborhood_Somerst\n",
      "33  -  Neighborhood_StoneBr\n",
      "34  -  Neighborhood_Timber\n",
      "35  -  Neighborhood_Veenker\n",
      "36  -  Foundation_BrkTil\n",
      "37  -  Foundation_CBlock\n",
      "38  -  Foundation_PConc\n",
      "39  -  Foundation_Stone\n",
      "40  -  Foundation_Wood\n",
      "41  -  Exterior2nd_AsbShng\n",
      "42  -  Exterior2nd_AsphShn\n",
      "43  -  Exterior2nd_Brk Cmn\n",
      "44  -  Exterior2nd_BrkFace\n",
      "45  -  Exterior2nd_CmentBd\n",
      "46  -  Exterior2nd_HdBoard\n",
      "47  -  Exterior2nd_ImStucc\n",
      "48  -  Exterior2nd_MetalSd\n",
      "49  -  Exterior2nd_Plywood\n",
      "50  -  Exterior2nd_Stone\n",
      "51  -  Exterior2nd_Stucco\n",
      "52  -  Exterior2nd_VinylSd\n",
      "53  -  Exterior2nd_Wd Sdng\n",
      "54  -  Exterior2nd_Wd Shng\n",
      "55  -  Exterior1st_AsbShng\n",
      "56  -  Exterior1st_BrkFace\n",
      "57  -  Exterior1st_CemntBd\n",
      "58  -  Exterior1st_HdBoard\n",
      "59  -  Exterior1st_MetalSd\n",
      "60  -  Exterior1st_Plywood\n",
      "61  -  Exterior1st_Stucco\n",
      "62  -  Exterior1st_VinylSd\n",
      "63  -  Exterior1st_Wd Sdng\n",
      "64  -  Exterior1st_WdShing\n"
     ]
    }
   ],
   "source": [
    "for i in range(0, len(columns_list)):\n",
    "    print(i, ' - ', columns_list[i])"
   ]
  },
  {
   "cell_type": "code",
   "execution_count": 51,
   "id": "9a70325f",
   "metadata": {},
   "outputs": [],
   "source": [
    "scores_diff_num_of_features = pd.DataFrame({'model': [], 'num_of_features': [], 'score': []})\n"
   ]
  },
  {
   "cell_type": "code",
   "execution_count": 52,
   "id": "48b9a37a",
   "metadata": {},
   "outputs": [],
   "source": [
    "lasso_regression = models['lasso_regression'][0]\n",
    "random_forest = models['random_forest_regressor'][0]\n",
    "xgb_regressor = models['xgb_regressor'][0]\n",
    "\n",
    "try_models = [lasso_regression, random_forest, xgb_regressor]"
   ]
  },
  {
   "cell_type": "code",
   "execution_count": 59,
   "id": "a3e5af86",
   "metadata": {},
   "outputs": [],
   "source": [
    "for model in try_models:\n",
    "    for number_of_columns in [5, 6, 7, 8, 9, 10, 11, 36, 41, 55, 65]:\n",
    "        scores = cross_val_score(model, \n",
    "                                 X[columns_list[:number_of_columns]], \n",
    "                                 y, \n",
    "                                 cv = 5, \n",
    "                                 scoring = 'neg_mean_absolute_error')\n",
    "        \n",
    "        scores_diff_num_of_features.loc[len(scores_diff_num_of_features)] = model, number_of_columns - 1, scores.mean()\n",
    "    \n",
    "    "
   ]
  },
  {
   "cell_type": "code",
   "execution_count": 62,
   "id": "2b2e0265",
   "metadata": {},
   "outputs": [
    {
     "data": {
      "text/html": [
       "<div>\n",
       "<style scoped>\n",
       "    .dataframe tbody tr th:only-of-type {\n",
       "        vertical-align: middle;\n",
       "    }\n",
       "\n",
       "    .dataframe tbody tr th {\n",
       "        vertical-align: top;\n",
       "    }\n",
       "\n",
       "    .dataframe thead th {\n",
       "        text-align: right;\n",
       "    }\n",
       "</style>\n",
       "<table border=\"1\" class=\"dataframe\">\n",
       "  <thead>\n",
       "    <tr style=\"text-align: right;\">\n",
       "      <th></th>\n",
       "      <th>model</th>\n",
       "      <th>num_of_features</th>\n",
       "      <th>score</th>\n",
       "    </tr>\n",
       "  </thead>\n",
       "  <tbody>\n",
       "    <tr>\n",
       "      <th>0</th>\n",
       "      <td>Lasso(alpha=52, random_state=0)</td>\n",
       "      <td>4.0</td>\n",
       "      <td>-15980.745945</td>\n",
       "    </tr>\n",
       "    <tr>\n",
       "      <th>1</th>\n",
       "      <td>Lasso(alpha=52, random_state=0)</td>\n",
       "      <td>5.0</td>\n",
       "      <td>-16035.291394</td>\n",
       "    </tr>\n",
       "    <tr>\n",
       "      <th>2</th>\n",
       "      <td>Lasso(alpha=52, random_state=0)</td>\n",
       "      <td>6.0</td>\n",
       "      <td>-15779.585323</td>\n",
       "    </tr>\n",
       "    <tr>\n",
       "      <th>3</th>\n",
       "      <td>Lasso(alpha=52, random_state=0)</td>\n",
       "      <td>7.0</td>\n",
       "      <td>-15763.365303</td>\n",
       "    </tr>\n",
       "    <tr>\n",
       "      <th>4</th>\n",
       "      <td>Lasso(alpha=52, random_state=0)</td>\n",
       "      <td>8.0</td>\n",
       "      <td>-15007.862816</td>\n",
       "    </tr>\n",
       "    <tr>\n",
       "      <th>5</th>\n",
       "      <td>Lasso(alpha=52, random_state=0)</td>\n",
       "      <td>9.0</td>\n",
       "      <td>-14888.342752</td>\n",
       "    </tr>\n",
       "    <tr>\n",
       "      <th>6</th>\n",
       "      <td>Lasso(alpha=52, random_state=0)</td>\n",
       "      <td>10.0</td>\n",
       "      <td>-14845.326052</td>\n",
       "    </tr>\n",
       "    <tr>\n",
       "      <th>7</th>\n",
       "      <td>Lasso(alpha=52, random_state=0)</td>\n",
       "      <td>35.0</td>\n",
       "      <td>-13999.892551</td>\n",
       "    </tr>\n",
       "    <tr>\n",
       "      <th>8</th>\n",
       "      <td>Lasso(alpha=52, random_state=0)</td>\n",
       "      <td>40.0</td>\n",
       "      <td>-14006.308512</td>\n",
       "    </tr>\n",
       "    <tr>\n",
       "      <th>9</th>\n",
       "      <td>Lasso(alpha=52, random_state=0)</td>\n",
       "      <td>54.0</td>\n",
       "      <td>-13971.072366</td>\n",
       "    </tr>\n",
       "    <tr>\n",
       "      <th>10</th>\n",
       "      <td>Lasso(alpha=52, random_state=0)</td>\n",
       "      <td>64.0</td>\n",
       "      <td>-13986.254194</td>\n",
       "    </tr>\n",
       "    <tr>\n",
       "      <th>11</th>\n",
       "      <td>RandomForestRegressor(max_depth=31, max_featur...</td>\n",
       "      <td>4.0</td>\n",
       "      <td>-13949.023223</td>\n",
       "    </tr>\n",
       "    <tr>\n",
       "      <th>12</th>\n",
       "      <td>RandomForestRegressor(max_depth=31, max_featur...</td>\n",
       "      <td>5.0</td>\n",
       "      <td>-13919.248849</td>\n",
       "    </tr>\n",
       "    <tr>\n",
       "      <th>13</th>\n",
       "      <td>RandomForestRegressor(max_depth=31, max_featur...</td>\n",
       "      <td>6.0</td>\n",
       "      <td>-13735.644744</td>\n",
       "    </tr>\n",
       "    <tr>\n",
       "      <th>14</th>\n",
       "      <td>RandomForestRegressor(max_depth=31, max_featur...</td>\n",
       "      <td>7.0</td>\n",
       "      <td>-13738.414183</td>\n",
       "    </tr>\n",
       "    <tr>\n",
       "      <th>15</th>\n",
       "      <td>RandomForestRegressor(max_depth=31, max_featur...</td>\n",
       "      <td>8.0</td>\n",
       "      <td>-13358.820982</td>\n",
       "    </tr>\n",
       "    <tr>\n",
       "      <th>16</th>\n",
       "      <td>RandomForestRegressor(max_depth=31, max_featur...</td>\n",
       "      <td>9.0</td>\n",
       "      <td>-13112.165706</td>\n",
       "    </tr>\n",
       "    <tr>\n",
       "      <th>17</th>\n",
       "      <td>RandomForestRegressor(max_depth=31, max_featur...</td>\n",
       "      <td>10.0</td>\n",
       "      <td>-13112.941476</td>\n",
       "    </tr>\n",
       "    <tr>\n",
       "      <th>18</th>\n",
       "      <td>RandomForestRegressor(max_depth=31, max_featur...</td>\n",
       "      <td>35.0</td>\n",
       "      <td>-12553.263714</td>\n",
       "    </tr>\n",
       "    <tr>\n",
       "      <th>19</th>\n",
       "      <td>RandomForestRegressor(max_depth=31, max_featur...</td>\n",
       "      <td>40.0</td>\n",
       "      <td>-12541.157105</td>\n",
       "    </tr>\n",
       "    <tr>\n",
       "      <th>20</th>\n",
       "      <td>RandomForestRegressor(max_depth=31, max_featur...</td>\n",
       "      <td>54.0</td>\n",
       "      <td>-12528.809020</td>\n",
       "    </tr>\n",
       "    <tr>\n",
       "      <th>21</th>\n",
       "      <td>RandomForestRegressor(max_depth=31, max_featur...</td>\n",
       "      <td>64.0</td>\n",
       "      <td>-12599.089718</td>\n",
       "    </tr>\n",
       "    <tr>\n",
       "      <th>22</th>\n",
       "      <td>XGBRegressor(base_score=None, booster=None, ca...</td>\n",
       "      <td>4.0</td>\n",
       "      <td>-14117.079848</td>\n",
       "    </tr>\n",
       "    <tr>\n",
       "      <th>23</th>\n",
       "      <td>XGBRegressor(base_score=None, booster=None, ca...</td>\n",
       "      <td>5.0</td>\n",
       "      <td>-14188.529309</td>\n",
       "    </tr>\n",
       "    <tr>\n",
       "      <th>24</th>\n",
       "      <td>XGBRegressor(base_score=None, booster=None, ca...</td>\n",
       "      <td>6.0</td>\n",
       "      <td>-13806.740844</td>\n",
       "    </tr>\n",
       "    <tr>\n",
       "      <th>25</th>\n",
       "      <td>XGBRegressor(base_score=None, booster=None, ca...</td>\n",
       "      <td>7.0</td>\n",
       "      <td>-13932.657992</td>\n",
       "    </tr>\n",
       "    <tr>\n",
       "      <th>26</th>\n",
       "      <td>XGBRegressor(base_score=None, booster=None, ca...</td>\n",
       "      <td>8.0</td>\n",
       "      <td>-13601.340461</td>\n",
       "    </tr>\n",
       "    <tr>\n",
       "      <th>27</th>\n",
       "      <td>XGBRegressor(base_score=None, booster=None, ca...</td>\n",
       "      <td>9.0</td>\n",
       "      <td>-13402.409118</td>\n",
       "    </tr>\n",
       "    <tr>\n",
       "      <th>28</th>\n",
       "      <td>XGBRegressor(base_score=None, booster=None, ca...</td>\n",
       "      <td>10.0</td>\n",
       "      <td>-13357.808099</td>\n",
       "    </tr>\n",
       "    <tr>\n",
       "      <th>29</th>\n",
       "      <td>XGBRegressor(base_score=None, booster=None, ca...</td>\n",
       "      <td>35.0</td>\n",
       "      <td>-13346.456057</td>\n",
       "    </tr>\n",
       "    <tr>\n",
       "      <th>30</th>\n",
       "      <td>XGBRegressor(base_score=None, booster=None, ca...</td>\n",
       "      <td>40.0</td>\n",
       "      <td>-13388.995719</td>\n",
       "    </tr>\n",
       "    <tr>\n",
       "      <th>31</th>\n",
       "      <td>XGBRegressor(base_score=None, booster=None, ca...</td>\n",
       "      <td>54.0</td>\n",
       "      <td>-13314.813557</td>\n",
       "    </tr>\n",
       "    <tr>\n",
       "      <th>32</th>\n",
       "      <td>XGBRegressor(base_score=None, booster=None, ca...</td>\n",
       "      <td>64.0</td>\n",
       "      <td>-13332.365156</td>\n",
       "    </tr>\n",
       "  </tbody>\n",
       "</table>\n",
       "</div>"
      ],
      "text/plain": [
       "                                                model  num_of_features  \\\n",
       "0                     Lasso(alpha=52, random_state=0)              4.0   \n",
       "1                     Lasso(alpha=52, random_state=0)              5.0   \n",
       "2                     Lasso(alpha=52, random_state=0)              6.0   \n",
       "3                     Lasso(alpha=52, random_state=0)              7.0   \n",
       "4                     Lasso(alpha=52, random_state=0)              8.0   \n",
       "5                     Lasso(alpha=52, random_state=0)              9.0   \n",
       "6                     Lasso(alpha=52, random_state=0)             10.0   \n",
       "7                     Lasso(alpha=52, random_state=0)             35.0   \n",
       "8                     Lasso(alpha=52, random_state=0)             40.0   \n",
       "9                     Lasso(alpha=52, random_state=0)             54.0   \n",
       "10                    Lasso(alpha=52, random_state=0)             64.0   \n",
       "11  RandomForestRegressor(max_depth=31, max_featur...              4.0   \n",
       "12  RandomForestRegressor(max_depth=31, max_featur...              5.0   \n",
       "13  RandomForestRegressor(max_depth=31, max_featur...              6.0   \n",
       "14  RandomForestRegressor(max_depth=31, max_featur...              7.0   \n",
       "15  RandomForestRegressor(max_depth=31, max_featur...              8.0   \n",
       "16  RandomForestRegressor(max_depth=31, max_featur...              9.0   \n",
       "17  RandomForestRegressor(max_depth=31, max_featur...             10.0   \n",
       "18  RandomForestRegressor(max_depth=31, max_featur...             35.0   \n",
       "19  RandomForestRegressor(max_depth=31, max_featur...             40.0   \n",
       "20  RandomForestRegressor(max_depth=31, max_featur...             54.0   \n",
       "21  RandomForestRegressor(max_depth=31, max_featur...             64.0   \n",
       "22  XGBRegressor(base_score=None, booster=None, ca...              4.0   \n",
       "23  XGBRegressor(base_score=None, booster=None, ca...              5.0   \n",
       "24  XGBRegressor(base_score=None, booster=None, ca...              6.0   \n",
       "25  XGBRegressor(base_score=None, booster=None, ca...              7.0   \n",
       "26  XGBRegressor(base_score=None, booster=None, ca...              8.0   \n",
       "27  XGBRegressor(base_score=None, booster=None, ca...              9.0   \n",
       "28  XGBRegressor(base_score=None, booster=None, ca...             10.0   \n",
       "29  XGBRegressor(base_score=None, booster=None, ca...             35.0   \n",
       "30  XGBRegressor(base_score=None, booster=None, ca...             40.0   \n",
       "31  XGBRegressor(base_score=None, booster=None, ca...             54.0   \n",
       "32  XGBRegressor(base_score=None, booster=None, ca...             64.0   \n",
       "\n",
       "           score  \n",
       "0  -15980.745945  \n",
       "1  -16035.291394  \n",
       "2  -15779.585323  \n",
       "3  -15763.365303  \n",
       "4  -15007.862816  \n",
       "5  -14888.342752  \n",
       "6  -14845.326052  \n",
       "7  -13999.892551  \n",
       "8  -14006.308512  \n",
       "9  -13971.072366  \n",
       "10 -13986.254194  \n",
       "11 -13949.023223  \n",
       "12 -13919.248849  \n",
       "13 -13735.644744  \n",
       "14 -13738.414183  \n",
       "15 -13358.820982  \n",
       "16 -13112.165706  \n",
       "17 -13112.941476  \n",
       "18 -12553.263714  \n",
       "19 -12541.157105  \n",
       "20 -12528.809020  \n",
       "21 -12599.089718  \n",
       "22 -14117.079848  \n",
       "23 -14188.529309  \n",
       "24 -13806.740844  \n",
       "25 -13932.657992  \n",
       "26 -13601.340461  \n",
       "27 -13402.409118  \n",
       "28 -13357.808099  \n",
       "29 -13346.456057  \n",
       "30 -13388.995719  \n",
       "31 -13314.813557  \n",
       "32 -13332.365156  "
      ]
     },
     "execution_count": 62,
     "metadata": {},
     "output_type": "execute_result"
    }
   ],
   "source": [
    "scores_diff_num_of_features"
   ]
  },
  {
   "cell_type": "code",
   "execution_count": 61,
   "id": "c4941f48",
   "metadata": {},
   "outputs": [
    {
     "data": {
      "text/plain": [
       "model              RandomForestRegressor(max_depth=31, max_featur...\n",
       "num_of_features                                                 54.0\n",
       "score                                                   -12528.80902\n",
       "Name: 20, dtype: object"
      ]
     },
     "execution_count": 61,
     "metadata": {},
     "output_type": "execute_result"
    }
   ],
   "source": [
    "scores_diff_num_of_features.loc[scores_diff_num_of_features['score'].idxmax()]"
   ]
  },
  {
   "cell_type": "markdown",
   "id": "56d4f08f",
   "metadata": {},
   "source": [
    "We found the optimal number of features to train the model. But it seems that not all the features used were really useful. If we look at the table above, we can see that neg_mean_absolute_error became worse after adding `2ndFlrSF` and `OpenPorchSF`. Let's exclude them and see the result."
   ]
  },
  {
   "cell_type": "code",
   "execution_count": 63,
   "id": "23282787",
   "metadata": {},
   "outputs": [],
   "source": [
    "X_shorted = X.copy()\n",
    "\n",
    "# Exclude 'Exterior1st' features\n",
    "X_shorted = X_shorted[columns_list[:55]]\n",
    "\n",
    "# Exclude '2ndFlrSF' and 'OpenPorchSF'\n",
    "X_shorted = X_shorted.drop(['2ndFlrSF', 'OpenPorchSF'], axis = 1)"
   ]
  },
  {
   "cell_type": "code",
   "execution_count": 65,
   "id": "58a62180",
   "metadata": {},
   "outputs": [
    {
     "data": {
      "text/plain": [
       "-12523.642546665924"
      ]
     },
     "execution_count": 65,
     "metadata": {},
     "output_type": "execute_result"
    }
   ],
   "source": [
    "scores_shorted = cross_val_score(random_forest,\n",
    "                                X_shorted,\n",
    "                                y,\n",
    "                                cv = 5,\n",
    "                                scoring = 'neg_mean_absolute_error')\n",
    "scores_shorted.mean()"
   ]
  },
  {
   "cell_type": "markdown",
   "id": "4a44a6b0",
   "metadata": {},
   "source": [
    "We got practically no increase in the accuracy of the model. Let's try to use GridSearch again. Perhaps the model with a new number of features needs other parameters."
   ]
  },
  {
   "cell_type": "code",
   "execution_count": 66,
   "id": "4008d8bf",
   "metadata": {},
   "outputs": [
    {
     "data": {
      "text/html": [
       "<style>#sk-container-id-1 {color: black;}#sk-container-id-1 pre{padding: 0;}#sk-container-id-1 div.sk-toggleable {background-color: white;}#sk-container-id-1 label.sk-toggleable__label {cursor: pointer;display: block;width: 100%;margin-bottom: 0;padding: 0.3em;box-sizing: border-box;text-align: center;}#sk-container-id-1 label.sk-toggleable__label-arrow:before {content: \"▸\";float: left;margin-right: 0.25em;color: #696969;}#sk-container-id-1 label.sk-toggleable__label-arrow:hover:before {color: black;}#sk-container-id-1 div.sk-estimator:hover label.sk-toggleable__label-arrow:before {color: black;}#sk-container-id-1 div.sk-toggleable__content {max-height: 0;max-width: 0;overflow: hidden;text-align: left;background-color: #f0f8ff;}#sk-container-id-1 div.sk-toggleable__content pre {margin: 0.2em;color: black;border-radius: 0.25em;background-color: #f0f8ff;}#sk-container-id-1 input.sk-toggleable__control:checked~div.sk-toggleable__content {max-height: 200px;max-width: 100%;overflow: auto;}#sk-container-id-1 input.sk-toggleable__control:checked~label.sk-toggleable__label-arrow:before {content: \"▾\";}#sk-container-id-1 div.sk-estimator input.sk-toggleable__control:checked~label.sk-toggleable__label {background-color: #d4ebff;}#sk-container-id-1 div.sk-label input.sk-toggleable__control:checked~label.sk-toggleable__label {background-color: #d4ebff;}#sk-container-id-1 input.sk-hidden--visually {border: 0;clip: rect(1px 1px 1px 1px);clip: rect(1px, 1px, 1px, 1px);height: 1px;margin: -1px;overflow: hidden;padding: 0;position: absolute;width: 1px;}#sk-container-id-1 div.sk-estimator {font-family: monospace;background-color: #f0f8ff;border: 1px dotted black;border-radius: 0.25em;box-sizing: border-box;margin-bottom: 0.5em;}#sk-container-id-1 div.sk-estimator:hover {background-color: #d4ebff;}#sk-container-id-1 div.sk-parallel-item::after {content: \"\";width: 100%;border-bottom: 1px solid gray;flex-grow: 1;}#sk-container-id-1 div.sk-label:hover label.sk-toggleable__label {background-color: #d4ebff;}#sk-container-id-1 div.sk-serial::before {content: \"\";position: absolute;border-left: 1px solid gray;box-sizing: border-box;top: 0;bottom: 0;left: 50%;z-index: 0;}#sk-container-id-1 div.sk-serial {display: flex;flex-direction: column;align-items: center;background-color: white;padding-right: 0.2em;padding-left: 0.2em;position: relative;}#sk-container-id-1 div.sk-item {position: relative;z-index: 1;}#sk-container-id-1 div.sk-parallel {display: flex;align-items: stretch;justify-content: center;background-color: white;position: relative;}#sk-container-id-1 div.sk-item::before, #sk-container-id-1 div.sk-parallel-item::before {content: \"\";position: absolute;border-left: 1px solid gray;box-sizing: border-box;top: 0;bottom: 0;left: 50%;z-index: -1;}#sk-container-id-1 div.sk-parallel-item {display: flex;flex-direction: column;z-index: 1;position: relative;background-color: white;}#sk-container-id-1 div.sk-parallel-item:first-child::after {align-self: flex-end;width: 50%;}#sk-container-id-1 div.sk-parallel-item:last-child::after {align-self: flex-start;width: 50%;}#sk-container-id-1 div.sk-parallel-item:only-child::after {width: 0;}#sk-container-id-1 div.sk-dashed-wrapped {border: 1px dashed gray;margin: 0 0.4em 0.5em 0.4em;box-sizing: border-box;padding-bottom: 0.4em;background-color: white;}#sk-container-id-1 div.sk-label label {font-family: monospace;font-weight: bold;display: inline-block;line-height: 1.2em;}#sk-container-id-1 div.sk-label-container {text-align: center;}#sk-container-id-1 div.sk-container {/* jupyter's `normalize.less` sets `[hidden] { display: none; }` but bootstrap.min.css set `[hidden] { display: none !important; }` so we also need the `!important` here to be able to override the default hidden behavior on the sphinx rendered scikit-learn.org. See: https://github.com/scikit-learn/scikit-learn/issues/21755 */display: inline-block !important;position: relative;}#sk-container-id-1 div.sk-text-repr-fallback {display: none;}</style><div id=\"sk-container-id-1\" class=\"sk-top-container\"><div class=\"sk-text-repr-fallback\"><pre>RandomForestRegressor(max_depth=31, max_features=15, min_samples_split=3,\n",
       "                      n_estimators=1100, n_jobs=-1, random_state=0)</pre><b>In a Jupyter environment, please rerun this cell to show the HTML representation or trust the notebook. <br />On GitHub, the HTML representation is unable to render, please try loading this page with nbviewer.org.</b></div><div class=\"sk-container\" hidden><div class=\"sk-item\"><div class=\"sk-estimator sk-toggleable\"><input class=\"sk-toggleable__control sk-hidden--visually\" id=\"sk-estimator-id-1\" type=\"checkbox\" checked><label for=\"sk-estimator-id-1\" class=\"sk-toggleable__label sk-toggleable__label-arrow\">RandomForestRegressor</label><div class=\"sk-toggleable__content\"><pre>RandomForestRegressor(max_depth=31, max_features=15, min_samples_split=3,\n",
       "                      n_estimators=1100, n_jobs=-1, random_state=0)</pre></div></div></div></div></div>"
      ],
      "text/plain": [
       "RandomForestRegressor(max_depth=31, max_features=15, min_samples_split=3,\n",
       "                      n_estimators=1100, n_jobs=-1, random_state=0)"
      ]
     },
     "execution_count": 66,
     "metadata": {},
     "output_type": "execute_result"
    }
   ],
   "source": [
    "random_forest"
   ]
  },
  {
   "cell_type": "code",
   "execution_count": 75,
   "id": "98e5af46",
   "metadata": {},
   "outputs": [
    {
     "name": "stdout",
     "output_type": "stream",
     "text": [
      "Best params:  {'max_depth': 31, 'max_features': 15, 'n_estimators': 1200, 'n_jobs': -1, 'random_state': 0}\n",
      "Best score:  -12497.254251314629\n"
     ]
    }
   ],
   "source": [
    "random_forest_sample = RandomForestRegressor()\n",
    "rf_hyper_params = {'max_depth': [31], # found on previous runs of GridSearch\n",
    "                   'max_features': [15], # found on previous runs of GridSearch\n",
    "                   'n_estimators': [1200],\n",
    "                   'random_state': [0],\n",
    "                   'n_jobs': [-1]\n",
    "                  }\n",
    "random_forest = GridSearchCV(random_forest_sample, rf_hyper_params, cv = 5, scoring = 'neg_mean_absolute_error')\n",
    "random_forest.fit(X_shorted, y)\n",
    "\n",
    "print('Best params: ', random_forest.best_params_)\n",
    "print('Best score: ', random_forest.best_score_)"
   ]
  },
  {
   "cell_type": "code",
   "execution_count": 80,
   "id": "67e4dbb6",
   "metadata": {},
   "outputs": [],
   "source": [
    "test_data_shorted = test_data[X_shorted.columns]\n",
    "rf_shorted_prediction = random_forest.predict(test_data_shorted)\n",
    "\n",
    "rf_shorted_output = pd.DataFrame({'Id': test_data.index, 'SalePrice': rf_shorted_prediction})\n",
    "rf_shorted_output.to_csv('../../Kaggle_Submissions/outputs/rf_shorted_output.csv', index = False)"
   ]
  },
  {
   "cell_type": "code",
   "execution_count": 77,
   "id": "9fcace3a",
   "metadata": {},
   "outputs": [],
   "source": [
    "data_stats = pd.read_csv('../../Data/data_processed_stats.csv')\n",
    "\n",
    "\n",
    "X_stats = data_stats.copy()\n",
    "y_stats = X_stats['SalePrice']\n",
    "X_stats = X_stats.drop(['SalePrice'], axis = 1)\n",
    "X_stats = X_stats[X_shorted.columns]"
   ]
  },
  {
   "cell_type": "code",
   "execution_count": 85,
   "id": "e0636d9b",
   "metadata": {},
   "outputs": [],
   "source": [
    "scores_stats = cross_val_score(random_forest,\n",
    "                               X_stats,\n",
    "                               y_stats,\n",
    "                               cv = 5,\n",
    "                               scoring = 'mean_absolute_error'\n",
    "                              )\n",
    "\n"
   ]
  },
  {
   "cell_type": "code",
   "execution_count": 84,
   "id": "7fd23cd3",
   "metadata": {},
   "outputs": [
    {
     "data": {
      "text/plain": [
       "0.9234082226837613"
      ]
     },
     "execution_count": 84,
     "metadata": {},
     "output_type": "execute_result"
    }
   ],
   "source": [
    "np.exp(scores_stats.mean())"
   ]
  },
  {
   "cell_type": "code",
   "execution_count": 88,
   "id": "6feae66d",
   "metadata": {},
   "outputs": [
    {
     "name": "stderr",
     "output_type": "stream",
     "text": [
      "C:\\Users\\samur\\anaconda3\\lib\\site-packages\\pandas\\core\\arraylike.py:364: RuntimeWarning: divide by zero encountered in log\n",
      "  result = getattr(ufunc, method)(*inputs, **kwargs)\n"
     ]
    }
   ],
   "source": [
    "random_forest.fit(X_stats, y_stats)\n",
    "\n",
    "test_data_stats = test_data_shorted.copy()\n",
    "test_data_stats['GrLivArea'] = np.log(test_data_shorted['GrLivArea'])\n",
    "test_data_stats.loc[test_data_stats['TotalBsmtSF'] > 0, 'TotalBsmtSF'] = np.log(test_data_stats['TotalBsmtSF'])\n",
    "\n",
    "rf_stats_prediction = np.exp(random_forest.predict(test_data_stats))\n",
    "\n",
    "rf_stats_output = pd.DataFrame({'Id': test_data_stats.index, 'SalePrice': rf_stats_prediction})\n",
    "rf_stats_output.to_csv('../../Kaggle_Submissions/outputs/rf_stats_output.csv', index = False)"
   ]
  },
  {
   "cell_type": "code",
   "execution_count": 87,
   "id": "7bcec946",
   "metadata": {},
   "outputs": [
    {
     "data": {
      "text/html": [
       "<div>\n",
       "<style scoped>\n",
       "    .dataframe tbody tr th:only-of-type {\n",
       "        vertical-align: middle;\n",
       "    }\n",
       "\n",
       "    .dataframe tbody tr th {\n",
       "        vertical-align: top;\n",
       "    }\n",
       "\n",
       "    .dataframe thead th {\n",
       "        text-align: right;\n",
       "    }\n",
       "</style>\n",
       "<table border=\"1\" class=\"dataframe\">\n",
       "  <thead>\n",
       "    <tr style=\"text-align: right;\">\n",
       "      <th></th>\n",
       "      <th>OverallQual</th>\n",
       "      <th>GrLivArea</th>\n",
       "      <th>YearBuilt</th>\n",
       "      <th>GarageArea</th>\n",
       "      <th>TotalBsmtSF</th>\n",
       "      <th>FullBath</th>\n",
       "      <th>YearRemodAdd</th>\n",
       "      <th>LotArea</th>\n",
       "      <th>Fireplaces</th>\n",
       "      <th>Neighborhood_Blmngtn</th>\n",
       "      <th>...</th>\n",
       "      <th>Exterior2nd_CmentBd</th>\n",
       "      <th>Exterior2nd_HdBoard</th>\n",
       "      <th>Exterior2nd_ImStucc</th>\n",
       "      <th>Exterior2nd_MetalSd</th>\n",
       "      <th>Exterior2nd_Plywood</th>\n",
       "      <th>Exterior2nd_Stone</th>\n",
       "      <th>Exterior2nd_Stucco</th>\n",
       "      <th>Exterior2nd_VinylSd</th>\n",
       "      <th>Exterior2nd_Wd Sdng</th>\n",
       "      <th>Exterior2nd_Wd Shng</th>\n",
       "    </tr>\n",
       "  </thead>\n",
       "  <tbody>\n",
       "    <tr>\n",
       "      <th>0</th>\n",
       "      <td>7</td>\n",
       "      <td>7.444249</td>\n",
       "      <td>2003</td>\n",
       "      <td>548</td>\n",
       "      <td>6.75227</td>\n",
       "      <td>2</td>\n",
       "      <td>2003</td>\n",
       "      <td>8450</td>\n",
       "      <td>0</td>\n",
       "      <td>0.0</td>\n",
       "      <td>...</td>\n",
       "      <td>0.0</td>\n",
       "      <td>0.0</td>\n",
       "      <td>0.0</td>\n",
       "      <td>0.0</td>\n",
       "      <td>0.0</td>\n",
       "      <td>0.0</td>\n",
       "      <td>0.0</td>\n",
       "      <td>1.0</td>\n",
       "      <td>0.0</td>\n",
       "      <td>0.0</td>\n",
       "    </tr>\n",
       "  </tbody>\n",
       "</table>\n",
       "<p>1 rows × 53 columns</p>\n",
       "</div>"
      ],
      "text/plain": [
       "   OverallQual  GrLivArea  YearBuilt  GarageArea  TotalBsmtSF  FullBath  \\\n",
       "0            7   7.444249       2003         548      6.75227         2   \n",
       "\n",
       "   YearRemodAdd  LotArea  Fireplaces  Neighborhood_Blmngtn  ...  \\\n",
       "0          2003     8450           0                   0.0  ...   \n",
       "\n",
       "   Exterior2nd_CmentBd  Exterior2nd_HdBoard  Exterior2nd_ImStucc  \\\n",
       "0                  0.0                  0.0                  0.0   \n",
       "\n",
       "   Exterior2nd_MetalSd  Exterior2nd_Plywood  Exterior2nd_Stone  \\\n",
       "0                  0.0                  0.0                0.0   \n",
       "\n",
       "   Exterior2nd_Stucco  Exterior2nd_VinylSd  Exterior2nd_Wd Sdng  \\\n",
       "0                 0.0                  1.0                  0.0   \n",
       "\n",
       "   Exterior2nd_Wd Shng  \n",
       "0                  0.0  \n",
       "\n",
       "[1 rows x 53 columns]"
      ]
     },
     "execution_count": 87,
     "metadata": {},
     "output_type": "execute_result"
    }
   ],
   "source": [
    "X_stats.head(1)"
   ]
  },
  {
   "cell_type": "code",
   "execution_count": null,
   "id": "2489bb88",
   "metadata": {},
   "outputs": [],
   "source": []
  }
 ],
 "metadata": {
  "kernelspec": {
   "display_name": "Python 3 (ipykernel)",
   "language": "python",
   "name": "python3"
  },
  "language_info": {
   "codemirror_mode": {
    "name": "ipython",
    "version": 3
   },
   "file_extension": ".py",
   "mimetype": "text/x-python",
   "name": "python",
   "nbconvert_exporter": "python",
   "pygments_lexer": "ipython3",
   "version": "3.9.7"
  }
 },
 "nbformat": 4,
 "nbformat_minor": 5
}
