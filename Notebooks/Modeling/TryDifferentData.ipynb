{
 "cells": [
  {
   "cell_type": "markdown",
   "id": "1644bae7",
   "metadata": {},
   "source": [
    "# Predictions on Different Data <a name = 'beginning'></a>\n",
    "\n",
    "In this notebook I will experiment with data in order to get more accurate predictions of the models defined in FittingAndEvaluation notebook.   \n",
    "\n",
    "The test data was taken from the Kaggle competition, so there is no direct access to house sale prices. Therefore, the competition submissions will be used to evaluate all attempts. Each attempt will be accompanied by a screenshot of the result. \n",
    "\n",
    "### Steps  \n",
    "  \n",
    "- [Scoring Method](#scoring)   \n",
    "- [Data Loading](#loading)     \n",
    "- [Prediction on test data processed in EDA notebook](#processed_EDA)   \n",
    "- [Prediction on test data with different number of features](#diff_num)\n",
    "- [Prediction on normalized test data](#norm_data)     \n",
    "- [Prediction on scaled test data](#scaled)  \n",
    "\n"
   ]
  },
  {
   "cell_type": "code",
   "execution_count": 24,
   "id": "593baf06",
   "metadata": {},
   "outputs": [],
   "source": [
    "%store -r models\n",
    "%store -r models_results\n",
    "import pandas as pd\n",
    "import numpy as np\n",
    "from sklearn.model_selection import cross_val_score\n",
    "from sklearn.metrics import mean_squared_error\n",
    "from sklearn.preprocessing import StandardScaler"
   ]
  },
  {
   "cell_type": "code",
   "execution_count": 25,
   "id": "ede1a023",
   "metadata": {},
   "outputs": [
    {
     "data": {
      "text/plain": [
       "[LinearRegression(),\n",
       " Ridge(alpha=2.5384615384615383, random_state=0),\n",
       " Lasso(alpha=41, random_state=0),\n",
       " RandomForestRegressor(max_depth=27, max_features=12, min_samples_split=3,\n",
       "                       n_estimators=1150, n_jobs=-1, random_state=0),\n",
       " XGBRegressor(base_score=None, booster=None, callbacks=None,\n",
       "              colsample_bylevel=None, colsample_bynode=None, colsample_bytree=1,\n",
       "              device=None, early_stopping_rounds=None, enable_categorical=False,\n",
       "              eval_metric=None, feature_types=None, gamma=0, grow_policy=None,\n",
       "              importance_type=None, interaction_constraints=None,\n",
       "              learning_rate=0.25, max_bin=None, max_cat_threshold=None,\n",
       "              max_cat_to_onehot=None, max_delta_step=None, max_depth=3,\n",
       "              max_leaves=None, min_child_weight=6, missing=nan,\n",
       "              monotone_constraints=None, multi_strategy=None, n_estimators=17,\n",
       "              n_jobs=None, num_parallel_tree=None, random_state=0, ...)]"
      ]
     },
     "execution_count": 25,
     "metadata": {},
     "output_type": "execute_result"
    }
   ],
   "source": [
    "models"
   ]
  },
  {
   "cell_type": "markdown",
   "id": "a5fb5f51",
   "metadata": {},
   "source": [
    "Since the elastic net equals Lasso regression, let's exclude it from the list of models."
   ]
  },
  {
   "cell_type": "code",
   "execution_count": 26,
   "id": "d7eda775",
   "metadata": {},
   "outputs": [
    {
     "data": {
      "text/plain": [
       "[LinearRegression(),\n",
       " Ridge(alpha=2.5384615384615383, random_state=0),\n",
       " Lasso(alpha=41, random_state=0),\n",
       " XGBRegressor(base_score=None, booster=None, callbacks=None,\n",
       "              colsample_bylevel=None, colsample_bynode=None, colsample_bytree=1,\n",
       "              device=None, early_stopping_rounds=None, enable_categorical=False,\n",
       "              eval_metric=None, feature_types=None, gamma=0, grow_policy=None,\n",
       "              importance_type=None, interaction_constraints=None,\n",
       "              learning_rate=0.25, max_bin=None, max_cat_threshold=None,\n",
       "              max_cat_to_onehot=None, max_delta_step=None, max_depth=3,\n",
       "              max_leaves=None, min_child_weight=6, missing=nan,\n",
       "              monotone_constraints=None, multi_strategy=None, n_estimators=17,\n",
       "              n_jobs=None, num_parallel_tree=None, random_state=0, ...)]"
      ]
     },
     "execution_count": 26,
     "metadata": {},
     "output_type": "execute_result"
    }
   ],
   "source": [
    "models.pop(3)\n",
    "models"
   ]
  },
  {
   "cell_type": "markdown",
   "id": "c3009985",
   "metadata": {},
   "source": [
    "# Scoring Method <a name = 'scoring'></a>  \n",
    "\n",
    "[Table of Content](#beginning)"
   ]
  },
  {
   "cell_type": "code",
   "execution_count": 27,
   "id": "3f4e17ec",
   "metadata": {},
   "outputs": [],
   "source": [
    "# My metric for cross validation\n",
    "def rmse_log(model, X, y):\n",
    "    y_pred = model.predict(X)\n",
    "    return np.sqrt(mean_squared_error(np.log1p(y), np.log1p(y_pred)))"
   ]
  },
  {
   "cell_type": "markdown",
   "id": "e6ca558a",
   "metadata": {},
   "source": [
    "# Data Loading <a name = 'loading'></a>  \n",
    "\n",
    "[Table of Content](#beginning)"
   ]
  },
  {
   "cell_type": "code",
   "execution_count": 28,
   "id": "5f7dee7a",
   "metadata": {},
   "outputs": [],
   "source": [
    "train_data = pd.read_csv('../../Data/train_data_processed.csv', index_col = 'Id')\n",
    "X = train_data.copy()\n",
    "y = X['SalePrice']\n",
    "X = X.drop(['SalePrice'], axis = 1)\n",
    "\n",
    "test_data = pd.read_csv('../../Data/test_data_processed.csv', index_col = 'Id')"
   ]
  },
  {
   "cell_type": "markdown",
   "id": "1faa453a",
   "metadata": {},
   "source": [
    "# Prediction on test data processed in EDA notebook  <a name = 'processed_EDA'></a>  \n",
    "\n",
    "[Table of Content](#beginning)"
   ]
  },
  {
   "cell_type": "markdown",
   "id": "14ff686c",
   "metadata": {},
   "source": [
    "Let this be the starting point. Real predictions on real test data using models trained on data processed in an EDA notebook."
   ]
  },
  {
   "cell_type": "code",
   "execution_count": 29,
   "id": "8888a053",
   "metadata": {},
   "outputs": [],
   "source": [
    "# Get predictions of my best models on test data processed in EDA notebook\n",
    "for model in models:\n",
    "     \n",
    "    # fit / predict\n",
    "    model.fit(X, y)\n",
    "    prediction = model.predict(test_data)\n",
    "    \n",
    "    # Get submission name\n",
    "    cut_model_name_after = str(model).find('(')\n",
    "    model_name = str(model)[:cut_model_name_after]\n",
    "    submission_name = model_name + '_processed_EDA.csv'\n",
    "    \n",
    "    # Fit prediction to the submission format and save .csv\n",
    "    submission_dataframe = pd.DataFrame({'Id': test_data.index, 'SalePrice': prediction})\n",
    "    submission_dataframe.to_csv(f\"Submissions/{submission_name}\", index = False)"
   ]
  },
  {
   "cell_type": "markdown",
   "id": "f462ec4a",
   "metadata": {},
   "source": [
    "![EDA](pics/EDA_result.png)"
   ]
  },
  {
   "cell_type": "markdown",
   "id": "0ba2d848",
   "metadata": {},
   "source": [
    "Lasso regression gives the best results so far."
   ]
  },
  {
   "cell_type": "markdown",
   "id": "bd01045b",
   "metadata": {},
   "source": [
    "# Prediction on test data with different number of features <a name = 'diff_num'></a>\n",
    "\n",
    "[Table of Content](#beginning)"
   ]
  },
  {
   "cell_type": "markdown",
   "id": "4430e2e6",
   "metadata": {},
   "source": [
    "Here I will try to fit my model to a different number of features that I selected using mutual information in the EDA notebook."
   ]
  },
  {
   "cell_type": "code",
   "execution_count": 30,
   "id": "52f35dc9",
   "metadata": {},
   "outputs": [],
   "source": [
    "# Get a list of columns\n",
    "columns_list = list(X.columns)"
   ]
  },
  {
   "cell_type": "code",
   "execution_count": 31,
   "id": "ba5a508d",
   "metadata": {},
   "outputs": [
    {
     "name": "stdout",
     "output_type": "stream",
     "text": [
      "0  -  OverallQual\n",
      "1  -  GrLivArea\n",
      "2  -  YearBuilt\n",
      "3  -  GarageArea\n",
      "4  -  TotalBsmtSF\n",
      "5  -  FullBath\n",
      "6  -  YearRemodAdd\n",
      "7  -  2ndFlrSF\n",
      "8  -  LotArea\n",
      "9  -  Fireplaces\n",
      "10  -  OpenPorchSF\n",
      "11  -  Neighborhood_Blmngtn\n",
      "12  -  Neighborhood_Blueste\n",
      "13  -  Neighborhood_BrDale\n",
      "14  -  Neighborhood_BrkSide\n",
      "15  -  Neighborhood_ClearCr\n",
      "16  -  Neighborhood_CollgCr\n",
      "17  -  Neighborhood_Crawfor\n",
      "18  -  Neighborhood_Edwards\n",
      "19  -  Neighborhood_Gilbert\n",
      "20  -  Neighborhood_IDOTRR\n",
      "21  -  Neighborhood_MeadowV\n",
      "22  -  Neighborhood_Mitchel\n",
      "23  -  Neighborhood_NAmes\n",
      "24  -  Neighborhood_NPkVill\n",
      "25  -  Neighborhood_NWAmes\n",
      "26  -  Neighborhood_NoRidge\n",
      "27  -  Neighborhood_NridgHt\n",
      "28  -  Neighborhood_OldTown\n",
      "29  -  Neighborhood_SWISU\n",
      "30  -  Neighborhood_Sawyer\n",
      "31  -  Neighborhood_SawyerW\n",
      "32  -  Neighborhood_Somerst\n",
      "33  -  Neighborhood_StoneBr\n",
      "34  -  Neighborhood_Timber\n",
      "35  -  Neighborhood_Veenker\n",
      "36  -  Foundation_BrkTil\n",
      "37  -  Foundation_CBlock\n",
      "38  -  Foundation_PConc\n",
      "39  -  Foundation_Stone\n",
      "40  -  Foundation_Wood\n",
      "41  -  Exterior2nd_AsbShng\n",
      "42  -  Exterior2nd_AsphShn\n",
      "43  -  Exterior2nd_Brk Cmn\n",
      "44  -  Exterior2nd_BrkFace\n",
      "45  -  Exterior2nd_CmentBd\n",
      "46  -  Exterior2nd_HdBoard\n",
      "47  -  Exterior2nd_ImStucc\n",
      "48  -  Exterior2nd_MetalSd\n",
      "49  -  Exterior2nd_Plywood\n",
      "50  -  Exterior2nd_Stone\n",
      "51  -  Exterior2nd_Stucco\n",
      "52  -  Exterior2nd_VinylSd\n",
      "53  -  Exterior2nd_Wd Sdng\n",
      "54  -  Exterior2nd_Wd Shng\n",
      "55  -  Exterior1st_AsbShng\n",
      "56  -  Exterior1st_BrkFace\n",
      "57  -  Exterior1st_CemntBd\n",
      "58  -  Exterior1st_HdBoard\n",
      "59  -  Exterior1st_ImStucc\n",
      "60  -  Exterior1st_MetalSd\n",
      "61  -  Exterior1st_Plywood\n",
      "62  -  Exterior1st_Stucco\n",
      "63  -  Exterior1st_VinylSd\n",
      "64  -  Exterior1st_Wd Sdng\n",
      "65  -  Exterior1st_WdShing\n"
     ]
    }
   ],
   "source": [
    "# Get a number for each feature\n",
    "for i in range(0, len(columns_list)):\n",
    "    print(i, ' - ', columns_list[i])"
   ]
  },
  {
   "cell_type": "code",
   "execution_count": 32,
   "id": "9a70325f",
   "metadata": {},
   "outputs": [],
   "source": [
    "# Create a DataFrame where we will store the results of models` performance\n",
    "scores_diff_num_features = pd.DataFrame({'model': [], 'num_of_features': [], 'score': []})"
   ]
  },
  {
   "cell_type": "code",
   "execution_count": 33,
   "id": "a3e5af86",
   "metadata": {},
   "outputs": [],
   "source": [
    "# Try each of best models\n",
    "for model in models:\n",
    "    # On different number of features from 5 to 15 (considering One-Hot encoding)\n",
    "    for number_of_columns in [5, 6, 7, 8, 9, 10, 11, 36, 41, 55, 65]:\n",
    "        scores = cross_val_score(model, \n",
    "                                 X[columns_list[:number_of_columns]], \n",
    "                                 y, \n",
    "                                 cv = 5, \n",
    "                                 scoring = rmse_log)\n",
    "        \n",
    "        # Store the results\n",
    "        scores_diff_num_features.loc[len(scores_diff_num_features)] = str(model), number_of_columns - 1, scores.mean()\n",
    "    \n",
    "    "
   ]
  },
  {
   "cell_type": "markdown",
   "id": "3e3c9dd6",
   "metadata": {},
   "source": [
    "Let's print the best result for every model."
   ]
  },
  {
   "cell_type": "code",
   "execution_count": 34,
   "id": "c4941f48",
   "metadata": {},
   "outputs": [
    {
     "data": {
      "text/html": [
       "<div>\n",
       "<style scoped>\n",
       "    .dataframe tbody tr th:only-of-type {\n",
       "        vertical-align: middle;\n",
       "    }\n",
       "\n",
       "    .dataframe tbody tr th {\n",
       "        vertical-align: top;\n",
       "    }\n",
       "\n",
       "    .dataframe thead th {\n",
       "        text-align: right;\n",
       "    }\n",
       "</style>\n",
       "<table border=\"1\" class=\"dataframe\">\n",
       "  <thead>\n",
       "    <tr style=\"text-align: right;\">\n",
       "      <th></th>\n",
       "      <th>model</th>\n",
       "      <th>num_of_features</th>\n",
       "      <th>score</th>\n",
       "    </tr>\n",
       "  </thead>\n",
       "  <tbody>\n",
       "    <tr>\n",
       "      <th>32</th>\n",
       "      <td>Lasso(alpha=41, random_state=0)</td>\n",
       "      <td>64.0</td>\n",
       "      <td>0.118273</td>\n",
       "    </tr>\n",
       "    <tr>\n",
       "      <th>7</th>\n",
       "      <td>LinearRegression()</td>\n",
       "      <td>35.0</td>\n",
       "      <td>0.119104</td>\n",
       "    </tr>\n",
       "    <tr>\n",
       "      <th>20</th>\n",
       "      <td>Ridge(alpha=2.5384615384615383, random_state=0)</td>\n",
       "      <td>54.0</td>\n",
       "      <td>0.119264</td>\n",
       "    </tr>\n",
       "    <tr>\n",
       "      <th>41</th>\n",
       "      <td>XGBRegressor(base_score=None, booster=None, ca...</td>\n",
       "      <td>40.0</td>\n",
       "      <td>0.115584</td>\n",
       "    </tr>\n",
       "  </tbody>\n",
       "</table>\n",
       "</div>"
      ],
      "text/plain": [
       "                                                model  num_of_features  \\\n",
       "32                    Lasso(alpha=41, random_state=0)             64.0   \n",
       "7                                  LinearRegression()             35.0   \n",
       "20    Ridge(alpha=2.5384615384615383, random_state=0)             54.0   \n",
       "41  XGBRegressor(base_score=None, booster=None, ca...             40.0   \n",
       "\n",
       "       score  \n",
       "32  0.118273  \n",
       "7   0.119104  \n",
       "20  0.119264  \n",
       "41  0.115584  "
      ]
     },
     "execution_count": 34,
     "metadata": {},
     "output_type": "execute_result"
    }
   ],
   "source": [
    "min_score_rows = scores_diff_num_features.loc[scores_diff_num_features.groupby('model')['score'].idxmin()]\n",
    "min_score_rows"
   ]
  },
  {
   "cell_type": "markdown",
   "id": "56d4f08f",
   "metadata": {},
   "source": [
    "We found the optimal number of features to train the models. Let's make a prediction."
   ]
  },
  {
   "cell_type": "code",
   "execution_count": 35,
   "id": "dbaf1367",
   "metadata": {},
   "outputs": [],
   "source": [
    "# Create a list with best number of features for every model\n",
    "cut_list = [36, 55, 65, 41, 36, 36]\n",
    "\n",
    "\n",
    "for i in range(len(models)):\n",
    "    # Get next model and corresponding num of features from cut_list\n",
    "    model = models[i]\n",
    "    num_features = cut_list[i] \n",
    "    \n",
    "    # Shrinking the training data and fitting the model\n",
    "    X_short = X.copy()\n",
    "    X_short = X_short[columns_list[:num_features]]\n",
    "    model.fit(X_short, y)\n",
    "    \n",
    "    # Making prediction on cutted test data\n",
    "    prediction_short = model.predict(test_data[columns_list[:num_features]])\n",
    "    \n",
    "    # Get submission name\n",
    "    cut_model_name_after = str(model).find('(')\n",
    "    model_name = str(model)[:cut_model_name_after]\n",
    "    submission_name = model_name + '_shorted.csv'\n",
    "    \n",
    "    # Fit prediction to the submission format and save .csv\n",
    "    submission_dataframe = pd.DataFrame({'Id': test_data.index, 'SalePrice': prediction})\n",
    "    submission_dataframe.to_csv(f\"Submissions/{submission_name}\", index = False)\n",
    "    "
   ]
  },
  {
   "cell_type": "markdown",
   "id": "53791a95",
   "metadata": {},
   "source": [
    "![shorted result](pics/shorted_result.png)"
   ]
  },
  {
   "cell_type": "markdown",
   "id": "c49380a5",
   "metadata": {},
   "source": [
    "There is no raise of accuracy."
   ]
  },
  {
   "cell_type": "markdown",
   "id": "c6810745",
   "metadata": {},
   "source": [
    "# Prediction on normalized test data <a name = 'norm_data'></a>\n",
    "\n",
    "[Table of Content](#beginning)"
   ]
  },
  {
   "cell_type": "markdown",
   "id": "bbc59e0a",
   "metadata": {},
   "source": [
    "In the EDA notebook, we found that some features can be successfully normalized using the log function. Let's try linear models that have the greatest potential to benefit from normalized data."
   ]
  },
  {
   "cell_type": "code",
   "execution_count": 36,
   "id": "9fcace3a",
   "metadata": {},
   "outputs": [],
   "source": [
    "# Load normalized data\n",
    "train_data_stats = pd.read_csv('../../Data/train_data_stats.csv', index_col = 'Id')\n",
    "test_data_stats = pd.read_csv('../../Data/test_data_stats.csv', index_col = 'Id')\n",
    "\n",
    "# Prepare training data\n",
    "X_stats = train_data_stats.copy()\n",
    "y_stats = X_stats['SalePrice']\n",
    "X_stats = X_stats.drop(['SalePrice'], axis = 1)"
   ]
  },
  {
   "cell_type": "code",
   "execution_count": 37,
   "id": "c7da87ea",
   "metadata": {},
   "outputs": [
    {
     "data": {
      "text/html": [
       "<div>\n",
       "<style scoped>\n",
       "    .dataframe tbody tr th:only-of-type {\n",
       "        vertical-align: middle;\n",
       "    }\n",
       "\n",
       "    .dataframe tbody tr th {\n",
       "        vertical-align: top;\n",
       "    }\n",
       "\n",
       "    .dataframe thead th {\n",
       "        text-align: right;\n",
       "    }\n",
       "</style>\n",
       "<table border=\"1\" class=\"dataframe\">\n",
       "  <thead>\n",
       "    <tr style=\"text-align: right;\">\n",
       "      <th></th>\n",
       "      <th>OverallQual</th>\n",
       "      <th>GrLivArea</th>\n",
       "      <th>YearBuilt</th>\n",
       "      <th>GarageArea</th>\n",
       "      <th>TotalBsmtSF</th>\n",
       "      <th>FullBath</th>\n",
       "      <th>YearRemodAdd</th>\n",
       "      <th>2ndFlrSF</th>\n",
       "      <th>LotArea</th>\n",
       "      <th>Fireplaces</th>\n",
       "      <th>...</th>\n",
       "      <th>Exterior1st_BrkFace</th>\n",
       "      <th>Exterior1st_CemntBd</th>\n",
       "      <th>Exterior1st_HdBoard</th>\n",
       "      <th>Exterior1st_ImStucc</th>\n",
       "      <th>Exterior1st_MetalSd</th>\n",
       "      <th>Exterior1st_Plywood</th>\n",
       "      <th>Exterior1st_Stucco</th>\n",
       "      <th>Exterior1st_VinylSd</th>\n",
       "      <th>Exterior1st_Wd Sdng</th>\n",
       "      <th>Exterior1st_WdShing</th>\n",
       "    </tr>\n",
       "    <tr>\n",
       "      <th>Id</th>\n",
       "      <th></th>\n",
       "      <th></th>\n",
       "      <th></th>\n",
       "      <th></th>\n",
       "      <th></th>\n",
       "      <th></th>\n",
       "      <th></th>\n",
       "      <th></th>\n",
       "      <th></th>\n",
       "      <th></th>\n",
       "      <th></th>\n",
       "      <th></th>\n",
       "      <th></th>\n",
       "      <th></th>\n",
       "      <th></th>\n",
       "      <th></th>\n",
       "      <th></th>\n",
       "      <th></th>\n",
       "      <th></th>\n",
       "      <th></th>\n",
       "      <th></th>\n",
       "    </tr>\n",
       "  </thead>\n",
       "  <tbody>\n",
       "    <tr>\n",
       "      <th>1</th>\n",
       "      <td>7</td>\n",
       "      <td>7.444249</td>\n",
       "      <td>2003</td>\n",
       "      <td>548</td>\n",
       "      <td>6.752270</td>\n",
       "      <td>2</td>\n",
       "      <td>2003</td>\n",
       "      <td>854</td>\n",
       "      <td>8450</td>\n",
       "      <td>0</td>\n",
       "      <td>...</td>\n",
       "      <td>0.0</td>\n",
       "      <td>0.0</td>\n",
       "      <td>0.0</td>\n",
       "      <td>0.0</td>\n",
       "      <td>0.0</td>\n",
       "      <td>0.0</td>\n",
       "      <td>0.0</td>\n",
       "      <td>1.0</td>\n",
       "      <td>0.0</td>\n",
       "      <td>0.0</td>\n",
       "    </tr>\n",
       "    <tr>\n",
       "      <th>2</th>\n",
       "      <td>6</td>\n",
       "      <td>7.140453</td>\n",
       "      <td>1976</td>\n",
       "      <td>460</td>\n",
       "      <td>7.140453</td>\n",
       "      <td>2</td>\n",
       "      <td>1976</td>\n",
       "      <td>0</td>\n",
       "      <td>9600</td>\n",
       "      <td>1</td>\n",
       "      <td>...</td>\n",
       "      <td>0.0</td>\n",
       "      <td>0.0</td>\n",
       "      <td>0.0</td>\n",
       "      <td>0.0</td>\n",
       "      <td>1.0</td>\n",
       "      <td>0.0</td>\n",
       "      <td>0.0</td>\n",
       "      <td>0.0</td>\n",
       "      <td>0.0</td>\n",
       "      <td>0.0</td>\n",
       "    </tr>\n",
       "    <tr>\n",
       "      <th>3</th>\n",
       "      <td>7</td>\n",
       "      <td>7.487734</td>\n",
       "      <td>2001</td>\n",
       "      <td>608</td>\n",
       "      <td>6.824374</td>\n",
       "      <td>2</td>\n",
       "      <td>2002</td>\n",
       "      <td>866</td>\n",
       "      <td>11250</td>\n",
       "      <td>1</td>\n",
       "      <td>...</td>\n",
       "      <td>0.0</td>\n",
       "      <td>0.0</td>\n",
       "      <td>0.0</td>\n",
       "      <td>0.0</td>\n",
       "      <td>0.0</td>\n",
       "      <td>0.0</td>\n",
       "      <td>0.0</td>\n",
       "      <td>1.0</td>\n",
       "      <td>0.0</td>\n",
       "      <td>0.0</td>\n",
       "    </tr>\n",
       "    <tr>\n",
       "      <th>4</th>\n",
       "      <td>7</td>\n",
       "      <td>7.448334</td>\n",
       "      <td>1915</td>\n",
       "      <td>642</td>\n",
       "      <td>6.628041</td>\n",
       "      <td>1</td>\n",
       "      <td>1970</td>\n",
       "      <td>756</td>\n",
       "      <td>9550</td>\n",
       "      <td>1</td>\n",
       "      <td>...</td>\n",
       "      <td>0.0</td>\n",
       "      <td>0.0</td>\n",
       "      <td>0.0</td>\n",
       "      <td>0.0</td>\n",
       "      <td>0.0</td>\n",
       "      <td>0.0</td>\n",
       "      <td>0.0</td>\n",
       "      <td>0.0</td>\n",
       "      <td>1.0</td>\n",
       "      <td>0.0</td>\n",
       "    </tr>\n",
       "    <tr>\n",
       "      <th>5</th>\n",
       "      <td>8</td>\n",
       "      <td>7.695303</td>\n",
       "      <td>2000</td>\n",
       "      <td>836</td>\n",
       "      <td>7.043160</td>\n",
       "      <td>2</td>\n",
       "      <td>2000</td>\n",
       "      <td>1053</td>\n",
       "      <td>14260</td>\n",
       "      <td>1</td>\n",
       "      <td>...</td>\n",
       "      <td>0.0</td>\n",
       "      <td>0.0</td>\n",
       "      <td>0.0</td>\n",
       "      <td>0.0</td>\n",
       "      <td>0.0</td>\n",
       "      <td>0.0</td>\n",
       "      <td>0.0</td>\n",
       "      <td>1.0</td>\n",
       "      <td>0.0</td>\n",
       "      <td>0.0</td>\n",
       "    </tr>\n",
       "  </tbody>\n",
       "</table>\n",
       "<p>5 rows × 66 columns</p>\n",
       "</div>"
      ],
      "text/plain": [
       "    OverallQual  GrLivArea  YearBuilt  GarageArea  TotalBsmtSF  FullBath  \\\n",
       "Id                                                                         \n",
       "1             7   7.444249       2003         548     6.752270         2   \n",
       "2             6   7.140453       1976         460     7.140453         2   \n",
       "3             7   7.487734       2001         608     6.824374         2   \n",
       "4             7   7.448334       1915         642     6.628041         1   \n",
       "5             8   7.695303       2000         836     7.043160         2   \n",
       "\n",
       "    YearRemodAdd  2ndFlrSF  LotArea  Fireplaces  ...  Exterior1st_BrkFace  \\\n",
       "Id                                               ...                        \n",
       "1           2003       854     8450           0  ...                  0.0   \n",
       "2           1976         0     9600           1  ...                  0.0   \n",
       "3           2002       866    11250           1  ...                  0.0   \n",
       "4           1970       756     9550           1  ...                  0.0   \n",
       "5           2000      1053    14260           1  ...                  0.0   \n",
       "\n",
       "    Exterior1st_CemntBd  Exterior1st_HdBoard  Exterior1st_ImStucc  \\\n",
       "Id                                                                  \n",
       "1                   0.0                  0.0                  0.0   \n",
       "2                   0.0                  0.0                  0.0   \n",
       "3                   0.0                  0.0                  0.0   \n",
       "4                   0.0                  0.0                  0.0   \n",
       "5                   0.0                  0.0                  0.0   \n",
       "\n",
       "    Exterior1st_MetalSd  Exterior1st_Plywood  Exterior1st_Stucco  \\\n",
       "Id                                                                 \n",
       "1                   0.0                  0.0                 0.0   \n",
       "2                   1.0                  0.0                 0.0   \n",
       "3                   0.0                  0.0                 0.0   \n",
       "4                   0.0                  0.0                 0.0   \n",
       "5                   0.0                  0.0                 0.0   \n",
       "\n",
       "    Exterior1st_VinylSd  Exterior1st_Wd Sdng  Exterior1st_WdShing  \n",
       "Id                                                                 \n",
       "1                   1.0                  0.0                  0.0  \n",
       "2                   0.0                  0.0                  0.0  \n",
       "3                   1.0                  0.0                  0.0  \n",
       "4                   0.0                  1.0                  0.0  \n",
       "5                   1.0                  0.0                  0.0  \n",
       "\n",
       "[5 rows x 66 columns]"
      ]
     },
     "execution_count": 37,
     "metadata": {},
     "output_type": "execute_result"
    }
   ],
   "source": [
    "X_stats.head()"
   ]
  },
  {
   "cell_type": "markdown",
   "id": "f675e2d7",
   "metadata": {},
   "source": [
    "As mentioned only linear models will be applied."
   ]
  },
  {
   "cell_type": "code",
   "execution_count": 38,
   "id": "c03e02a5",
   "metadata": {},
   "outputs": [
    {
     "data": {
      "text/plain": [
       "[LinearRegression(),\n",
       " Ridge(alpha=2.5384615384615383, random_state=0),\n",
       " Lasso(alpha=41, random_state=0)]"
      ]
     },
     "execution_count": 38,
     "metadata": {},
     "output_type": "execute_result"
    }
   ],
   "source": [
    "linear_models = models[:3]\n",
    "linear_models"
   ]
  },
  {
   "cell_type": "code",
   "execution_count": 39,
   "id": "474c1677",
   "metadata": {},
   "outputs": [],
   "source": [
    "cut_list_norm = [36, 55, 65]\n",
    "\n",
    "for i in range(len(linear_models)):\n",
    "    # Get next model and corresponding num of features from cut_list_norm\n",
    "    model = linear_models[i]\n",
    "    num_features = cut_list_norm[i] \n",
    "    \n",
    "    # Shrink normalized train data and fit the model\n",
    "    X_norm = X_stats.copy()\n",
    "    X_norm = X_norm[columns_list[:num_features]]\n",
    "    model.fit(X_norm, y_stats)\n",
    "    \n",
    "    # The target value in the training data is also normalized, \n",
    "    # so it is necessary to take the exponent to get the correct prediction\n",
    "    prediction_norm = np.exp(model.predict(test_data_stats[columns_list[:num_features]]))\n",
    "    \n",
    "    # Get submission name\n",
    "    cut_model_name_after = str(model).find('(')\n",
    "    model_name = str(model)[:cut_model_name_after]\n",
    "    submission_name = model_name + '_norm.csv'\n",
    "    \n",
    "    # Fit prediction to the submission format and save .csv\n",
    "    submission_dataframe = pd.DataFrame({'Id': test_data.index, 'SalePrice': prediction_norm})\n",
    "    submission_dataframe.to_csv(f\"Submissions/{submission_name}\", index = False)"
   ]
  },
  {
   "cell_type": "markdown",
   "id": "2c2d3ce7",
   "metadata": {},
   "source": [
    "![norm result](pics/norm_result.png)"
   ]
  },
  {
   "cell_type": "markdown",
   "id": "8ff69fbf",
   "metadata": {},
   "source": [
    "Lasso regression fitted on data processed in EDA notebook is still the best."
   ]
  },
  {
   "cell_type": "markdown",
   "id": "5f216b9d",
   "metadata": {},
   "source": [
    "# Prediction on scaled test data <a name = 'scaled'></a>  \n",
    "\n",
    "[Table of Content](#beginning)"
   ]
  },
  {
   "cell_type": "markdown",
   "id": "a5450ef8",
   "metadata": {},
   "source": [
    "The last option I'm going to try is data scaling. Feature scaling is a good thing. It improves model performance, prevents features from dominating, and increases the generalizability of the model. I expect good results."
   ]
  },
  {
   "cell_type": "code",
   "execution_count": 40,
   "id": "669ee03c",
   "metadata": {},
   "outputs": [],
   "source": [
    "scaler = StandardScaler()\n",
    "\n",
    "# Scale data\n",
    "X_train_scaled = scaler.fit_transform(X)\n",
    "test_data_scaled = scaler.transform(test_data)"
   ]
  },
  {
   "cell_type": "code",
   "execution_count": 41,
   "id": "e50bf832",
   "metadata": {},
   "outputs": [],
   "source": [
    "for i in range(len(models)):\n",
    "    model = models[i]\n",
    "    model.fit(X_train_scaled, y)\n",
    "    \n",
    "    prediction_scaled = model.predict(test_data_scaled)\n",
    "    \n",
    "    # Get submission name\n",
    "    cut_model_name_after = str(model).find('(')\n",
    "    model_name = str(model)[:cut_model_name_after]\n",
    "    submission_name = model_name + '_scaled.csv'\n",
    "    \n",
    "    # Fit prediction to the submission format and save .csv\n",
    "    submission_dataframe = pd.DataFrame({'Id': test_data.index, 'SalePrice': prediction_scaled})\n",
    "    submission_dataframe.to_csv(f\"Submissions/{submission_name}\", index = False)"
   ]
  },
  {
   "cell_type": "markdown",
   "id": "4615c482",
   "metadata": {},
   "source": [
    "![scaled result](pics/scaled_result.png)"
   ]
  },
  {
   "cell_type": "markdown",
   "id": "fa885ed7",
   "metadata": {},
   "source": [
    "By a small margin, a new champion has emerged!    \n",
    "\n",
    "**Conclusion:** Well, the model with the best predictive power is Lasso regression trained on scaled data."
   ]
  }
 ],
 "metadata": {
  "kernelspec": {
   "display_name": "Python 3 (ipykernel)",
   "language": "python",
   "name": "python3"
  },
  "language_info": {
   "codemirror_mode": {
    "name": "ipython",
    "version": 3
   },
   "file_extension": ".py",
   "mimetype": "text/x-python",
   "name": "python",
   "nbconvert_exporter": "python",
   "pygments_lexer": "ipython3",
   "version": "3.9.7"
  }
 },
 "nbformat": 4,
 "nbformat_minor": 5
}
