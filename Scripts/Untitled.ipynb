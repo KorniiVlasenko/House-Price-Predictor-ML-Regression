{
 "cells": [
  {
   "cell_type": "code",
   "execution_count": 1,
   "id": "cf019093",
   "metadata": {},
   "outputs": [],
   "source": [
    "import preprocessing as pp"
   ]
  },
  {
   "cell_type": "code",
   "execution_count": 2,
   "id": "412ca231",
   "metadata": {},
   "outputs": [
    {
     "name": "stderr",
     "output_type": "stream",
     "text": [
      "C:\\Users\\samur\\anaconda3\\lib\\site-packages\\pandas\\core\\arraylike.py:364: RuntimeWarning: divide by zero encountered in log\n",
      "  result = getattr(ufunc, method)(*inputs, **kwargs)\n"
     ]
    }
   ],
   "source": [
    "pp.full_preprocessing()"
   ]
  },
  {
   "cell_type": "code",
   "execution_count": 1,
   "id": "a6cc8ad2",
   "metadata": {},
   "outputs": [],
   "source": [
    "import models_tuning_and_evaluation as mod_te"
   ]
  },
  {
   "cell_type": "code",
   "execution_count": 2,
   "id": "6b2434a9",
   "metadata": {
    "scrolled": true
   },
   "outputs": [
    {
     "name": "stdout",
     "output_type": "stream",
     "text": [
      "Linear Regression score:  0.12134909426558542\n",
      "Ridge Regression, best value of λ:  {'alpha': 2.641, 'random_state': 0}\n",
      "Best score:  0.12008040415825268\n",
      "Lasso Regression, best value of alpha:  {'alpha': 41, 'random_state': 0}\n",
      "Best score:  0.11896889496896594\n",
      "Decision Tree, best parameters:  {'ccp_alpha': 0, 'max_depth': 6, 'max_features': 35, 'min_impurity_decrease': 0, 'min_samples_leaf': 6, 'min_samples_split': 2, 'random_state': 0}\n",
      "Best score:  0.15083120674981315\n",
      "Random Forest, best parameters:  {'max_depth': 27, 'max_features': 12, 'min_samples_leaf': 1, 'min_samples_split': 3, 'n_estimators': 1150, 'n_jobs': -1, 'random_state': 0}\n",
      "Best score:  0.1116335063752345\n"
     ]
    },
    {
     "name": "stderr",
     "output_type": "stream",
     "text": [
      "C:\\Users\\samur\\anaconda3\\lib\\site-packages\\xgboost\\sklearn.py:885: UserWarning: `early_stopping_rounds` in `fit` method is deprecated for better compatibility with scikit-learn, use `early_stopping_rounds` in constructor or`set_params` instead.\n",
      "  warnings.warn(\n"
     ]
    },
    {
     "name": "stdout",
     "output_type": "stream",
     "text": [
      "XGBoost, best value for n_estimators:  83\n",
      "XGBoost, best parameters:  {'colsample_bytree': 1, 'gamma': 0, 'learning_rate': 0.25, 'max_depth': 3, 'min_child_weight': 7, 'n_estimators': 83, 'random_state': 0, 'reg_alpha': 0, 'reg_lambda': 1, 'subsample': 1}\n",
      "Best score:  0.1122791595808323\n",
      "[LinearRegression(), Ridge(alpha=2.641, random_state=0), Lasso(alpha=41, random_state=0), DecisionTreeRegressor(ccp_alpha=0, max_depth=6, max_features=35,\n",
      "                      min_impurity_decrease=0, min_samples_leaf=6,\n",
      "                      random_state=0), RandomForestRegressor(max_depth=27, max_features=12, min_samples_split=3,\n",
      "                      n_estimators=1150, n_jobs=-1, random_state=0), XGBRegressor(base_score=None, booster=None, callbacks=None,\n",
      "             colsample_bylevel=None, colsample_bynode=None, colsample_bytree=1,\n",
      "             device=None, early_stopping_rounds=None, enable_categorical=False,\n",
      "             eval_metric=None, feature_types=None, gamma=0, grow_policy=None,\n",
      "             importance_type=None, interaction_constraints=None,\n",
      "             learning_rate=0.25, max_bin=None, max_cat_threshold=None,\n",
      "             max_cat_to_onehot=None, max_delta_step=None, max_depth=3,\n",
      "             max_leaves=None, min_child_weight=7, missing=nan,\n",
      "             monotone_constraints=None, multi_strategy=None, n_estimators=83,\n",
      "             n_jobs=None, num_parallel_tree=None, random_state=0, ...)]\n"
     ]
    },
    {
     "data": {
      "text/plain": [
       "[LinearRegression(),\n",
       " Ridge(alpha=2.641, random_state=0),\n",
       " Lasso(alpha=41, random_state=0),\n",
       " DecisionTreeRegressor(ccp_alpha=0, max_depth=6, max_features=35,\n",
       "                       min_impurity_decrease=0, min_samples_leaf=6,\n",
       "                       random_state=0),\n",
       " RandomForestRegressor(max_depth=27, max_features=12, min_samples_split=3,\n",
       "                       n_estimators=1150, n_jobs=-1, random_state=0),\n",
       " XGBRegressor(base_score=None, booster=None, callbacks=None,\n",
       "              colsample_bylevel=None, colsample_bynode=None, colsample_bytree=1,\n",
       "              device=None, early_stopping_rounds=None, enable_categorical=False,\n",
       "              eval_metric=None, feature_types=None, gamma=0, grow_policy=None,\n",
       "              importance_type=None, interaction_constraints=None,\n",
       "              learning_rate=0.25, max_bin=None, max_cat_threshold=None,\n",
       "              max_cat_to_onehot=None, max_delta_step=None, max_depth=3,\n",
       "              max_leaves=None, min_child_weight=7, missing=nan,\n",
       "              monotone_constraints=None, multi_strategy=None, n_estimators=83,\n",
       "              n_jobs=None, num_parallel_tree=None, random_state=0, ...)]"
      ]
     },
     "execution_count": 2,
     "metadata": {},
     "output_type": "execute_result"
    }
   ],
   "source": [
    "mod_te.save_tuned_models()"
   ]
  },
  {
   "cell_type": "code",
   "execution_count": 1,
   "id": "af49b1bd",
   "metadata": {},
   "outputs": [],
   "source": [
    "import models_prediction_on_different_data as models_preds"
   ]
  },
  {
   "cell_type": "code",
   "execution_count": 2,
   "id": "44276aa5",
   "metadata": {},
   "outputs": [],
   "source": [
    "models_preds.get_all_predictions()"
   ]
  },
  {
   "cell_type": "code",
   "execution_count": 3,
   "id": "8b833698",
   "metadata": {},
   "outputs": [],
   "source": [
    "import best_model_fit_predict as best\n",
    "best.make_best_prediction()"
   ]
  },
  {
   "cell_type": "code",
   "execution_count": 4,
   "id": "ba78ea24",
   "metadata": {},
   "outputs": [
    {
     "name": "stderr",
     "output_type": "stream",
     "text": [
      "C:\\Users\\samur\\anaconda3\\lib\\site-packages\\pandas\\core\\arraylike.py:364: RuntimeWarning: divide by zero encountered in log\n",
      "  result = getattr(ufunc, method)(*inputs, **kwargs)\n"
     ]
    },
    {
     "name": "stdout",
     "output_type": "stream",
     "text": [
      "Linear Regression score:  0.12134909426558542\n",
      "Ridge Regression, best value of λ:  {'alpha': 2.641, 'random_state': 0}\n",
      "Best score:  0.12008040415825268\n",
      "Lasso Regression, best value of alpha:  {'alpha': 41, 'random_state': 0}\n",
      "Best score:  0.11896889496896594\n",
      "Decision Tree, best parameters:  {'ccp_alpha': 0, 'max_depth': 6, 'max_features': 35, 'min_impurity_decrease': 0, 'min_samples_leaf': 6, 'min_samples_split': 2, 'random_state': 0}\n",
      "Best score:  0.15083120674981315\n",
      "Random Forest, best parameters:  {'max_depth': 27, 'max_features': 12, 'min_samples_leaf': 1, 'min_samples_split': 3, 'n_estimators': 1150, 'n_jobs': -1, 'random_state': 0}\n",
      "Best score:  0.1116335063752345\n"
     ]
    },
    {
     "name": "stderr",
     "output_type": "stream",
     "text": [
      "C:\\Users\\samur\\anaconda3\\lib\\site-packages\\xgboost\\sklearn.py:885: UserWarning: `early_stopping_rounds` in `fit` method is deprecated for better compatibility with scikit-learn, use `early_stopping_rounds` in constructor or`set_params` instead.\n",
      "  warnings.warn(\n"
     ]
    },
    {
     "name": "stdout",
     "output_type": "stream",
     "text": [
      "XGBoost, best value for n_estimators:  83\n",
      "XGBoost, best parameters:  {'colsample_bytree': 1, 'gamma': 0, 'learning_rate': 0.25, 'max_depth': 3, 'min_child_weight': 7, 'n_estimators': 83, 'random_state': 0, 'reg_alpha': 0, 'reg_lambda': 1, 'subsample': 1}\n",
      "Best score:  0.1122791595808323\n",
      "[LinearRegression(), Ridge(alpha=2.641, random_state=0), Lasso(alpha=41, random_state=0), DecisionTreeRegressor(ccp_alpha=0, max_depth=6, max_features=35,\n",
      "                      min_impurity_decrease=0, min_samples_leaf=6,\n",
      "                      random_state=0), RandomForestRegressor(max_depth=27, max_features=12, min_samples_split=3,\n",
      "                      n_estimators=1150, n_jobs=-1, random_state=0), XGBRegressor(base_score=None, booster=None, callbacks=None,\n",
      "             colsample_bylevel=None, colsample_bynode=None, colsample_bytree=1,\n",
      "             device=None, early_stopping_rounds=None, enable_categorical=False,\n",
      "             eval_metric=None, feature_types=None, gamma=0, grow_policy=None,\n",
      "             importance_type=None, interaction_constraints=None,\n",
      "             learning_rate=0.25, max_bin=None, max_cat_threshold=None,\n",
      "             max_cat_to_onehot=None, max_delta_step=None, max_depth=3,\n",
      "             max_leaves=None, min_child_weight=7, missing=nan,\n",
      "             monotone_constraints=None, multi_strategy=None, n_estimators=83,\n",
      "             n_jobs=None, num_parallel_tree=None, random_state=0, ...)]\n"
     ]
    }
   ],
   "source": [
    "%run make_project"
   ]
  },
  {
   "cell_type": "code",
   "execution_count": null,
   "id": "d541de4f",
   "metadata": {},
   "outputs": [],
   "source": []
  }
 ],
 "metadata": {
  "kernelspec": {
   "display_name": "Python 3 (ipykernel)",
   "language": "python",
   "name": "python3"
  },
  "language_info": {
   "codemirror_mode": {
    "name": "ipython",
    "version": 3
   },
   "file_extension": ".py",
   "mimetype": "text/x-python",
   "name": "python",
   "nbconvert_exporter": "python",
   "pygments_lexer": "ipython3",
   "version": "3.9.7"
  }
 },
 "nbformat": 4,
 "nbformat_minor": 5
}
